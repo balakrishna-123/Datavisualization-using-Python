{
  "nbformat": 4,
  "nbformat_minor": 0,
  "metadata": {
    "colab": {
      "name": "Day_2_Assignment.ipynb",
      "provenance": []
    },
    "kernelspec": {
      "name": "python3",
      "display_name": "Python 3"
    },
    "language_info": {
      "name": "python"
    }
  },
  "cells": [
    {
      "cell_type": "code",
      "metadata": {
        "id": "9MvuwdM3M-G-"
      },
      "source": [
        "import numpy as np\n",
        "import matplotlib as mpl\n",
        "import pandas as pd\n",
        "import matplotlib as mpl\n",
        "import matplotlib.pyplot as plt\n",
        "import seaborn as sns\n",
        "from numpy.random import randn,randint,uniform,sample\n",
        "%matplotlib inline"
      ],
      "execution_count": 1,
      "outputs": []
    },
    {
      "cell_type": "code",
      "metadata": {
        "id": "DSCulWtmNMev"
      },
      "source": [
        "df = pd.DataFrame(randn(10,4),columns=['a','b','c','d'])"
      ],
      "execution_count": 2,
      "outputs": []
    },
    {
      "cell_type": "code",
      "metadata": {
        "colab": {
          "base_uri": "https://localhost:8080/",
          "height": 357
        },
        "id": "ItZreEZnOIQJ",
        "outputId": "31a45ecc-a1b2-492e-cc8a-d7dbb395ed93"
      },
      "source": [
        "df"
      ],
      "execution_count": 6,
      "outputs": [
        {
          "output_type": "execute_result",
          "data": {
            "text/html": [
              "<div>\n",
              "<style scoped>\n",
              "    .dataframe tbody tr th:only-of-type {\n",
              "        vertical-align: middle;\n",
              "    }\n",
              "\n",
              "    .dataframe tbody tr th {\n",
              "        vertical-align: top;\n",
              "    }\n",
              "\n",
              "    .dataframe thead th {\n",
              "        text-align: right;\n",
              "    }\n",
              "</style>\n",
              "<table border=\"1\" class=\"dataframe\">\n",
              "  <thead>\n",
              "    <tr style=\"text-align: right;\">\n",
              "      <th></th>\n",
              "      <th>a</th>\n",
              "      <th>b</th>\n",
              "      <th>c</th>\n",
              "      <th>d</th>\n",
              "    </tr>\n",
              "  </thead>\n",
              "  <tbody>\n",
              "    <tr>\n",
              "      <th>0</th>\n",
              "      <td>-0.563272</td>\n",
              "      <td>0.520352</td>\n",
              "      <td>0.300903</td>\n",
              "      <td>1.039578</td>\n",
              "    </tr>\n",
              "    <tr>\n",
              "      <th>1</th>\n",
              "      <td>0.693664</td>\n",
              "      <td>0.482617</td>\n",
              "      <td>-0.665529</td>\n",
              "      <td>1.805784</td>\n",
              "    </tr>\n",
              "    <tr>\n",
              "      <th>2</th>\n",
              "      <td>-0.123434</td>\n",
              "      <td>-0.851489</td>\n",
              "      <td>-0.253857</td>\n",
              "      <td>0.450725</td>\n",
              "    </tr>\n",
              "    <tr>\n",
              "      <th>3</th>\n",
              "      <td>1.377106</td>\n",
              "      <td>-0.134943</td>\n",
              "      <td>0.061465</td>\n",
              "      <td>0.829208</td>\n",
              "    </tr>\n",
              "    <tr>\n",
              "      <th>4</th>\n",
              "      <td>0.736539</td>\n",
              "      <td>1.535860</td>\n",
              "      <td>-1.608960</td>\n",
              "      <td>-1.040656</td>\n",
              "    </tr>\n",
              "    <tr>\n",
              "      <th>5</th>\n",
              "      <td>0.638241</td>\n",
              "      <td>-0.170830</td>\n",
              "      <td>-0.714289</td>\n",
              "      <td>0.648766</td>\n",
              "    </tr>\n",
              "    <tr>\n",
              "      <th>6</th>\n",
              "      <td>-0.563927</td>\n",
              "      <td>0.484164</td>\n",
              "      <td>-0.152361</td>\n",
              "      <td>1.071458</td>\n",
              "    </tr>\n",
              "    <tr>\n",
              "      <th>7</th>\n",
              "      <td>2.200978</td>\n",
              "      <td>-0.168523</td>\n",
              "      <td>0.686863</td>\n",
              "      <td>0.268294</td>\n",
              "    </tr>\n",
              "    <tr>\n",
              "      <th>8</th>\n",
              "      <td>-0.545620</td>\n",
              "      <td>-0.492658</td>\n",
              "      <td>0.129948</td>\n",
              "      <td>0.274283</td>\n",
              "    </tr>\n",
              "    <tr>\n",
              "      <th>9</th>\n",
              "      <td>-1.458124</td>\n",
              "      <td>-0.054273</td>\n",
              "      <td>-1.440107</td>\n",
              "      <td>-1.194856</td>\n",
              "    </tr>\n",
              "  </tbody>\n",
              "</table>\n",
              "</div>"
            ],
            "text/plain": [
              "          a         b         c         d\n",
              "0 -0.563272  0.520352  0.300903  1.039578\n",
              "1  0.693664  0.482617 -0.665529  1.805784\n",
              "2 -0.123434 -0.851489 -0.253857  0.450725\n",
              "3  1.377106 -0.134943  0.061465  0.829208\n",
              "4  0.736539  1.535860 -1.608960 -1.040656\n",
              "5  0.638241 -0.170830 -0.714289  0.648766\n",
              "6 -0.563927  0.484164 -0.152361  1.071458\n",
              "7  2.200978 -0.168523  0.686863  0.268294\n",
              "8 -0.545620 -0.492658  0.129948  0.274283\n",
              "9 -1.458124 -0.054273 -1.440107 -1.194856"
            ]
          },
          "metadata": {
            "tags": []
          },
          "execution_count": 6
        }
      ]
    },
    {
      "cell_type": "code",
      "metadata": {
        "colab": {
          "base_uri": "https://localhost:8080/",
          "height": 203
        },
        "id": "tXDq0vb3NMs9",
        "outputId": "320ba120-64c7-452a-b896-9aecb0b33341"
      },
      "source": [
        "\n",
        "df.head()"
      ],
      "execution_count": 3,
      "outputs": [
        {
          "output_type": "execute_result",
          "data": {
            "text/html": [
              "<div>\n",
              "<style scoped>\n",
              "    .dataframe tbody tr th:only-of-type {\n",
              "        vertical-align: middle;\n",
              "    }\n",
              "\n",
              "    .dataframe tbody tr th {\n",
              "        vertical-align: top;\n",
              "    }\n",
              "\n",
              "    .dataframe thead th {\n",
              "        text-align: right;\n",
              "    }\n",
              "</style>\n",
              "<table border=\"1\" class=\"dataframe\">\n",
              "  <thead>\n",
              "    <tr style=\"text-align: right;\">\n",
              "      <th></th>\n",
              "      <th>a</th>\n",
              "      <th>b</th>\n",
              "      <th>c</th>\n",
              "      <th>d</th>\n",
              "    </tr>\n",
              "  </thead>\n",
              "  <tbody>\n",
              "    <tr>\n",
              "      <th>0</th>\n",
              "      <td>-0.563272</td>\n",
              "      <td>0.520352</td>\n",
              "      <td>0.300903</td>\n",
              "      <td>1.039578</td>\n",
              "    </tr>\n",
              "    <tr>\n",
              "      <th>1</th>\n",
              "      <td>0.693664</td>\n",
              "      <td>0.482617</td>\n",
              "      <td>-0.665529</td>\n",
              "      <td>1.805784</td>\n",
              "    </tr>\n",
              "    <tr>\n",
              "      <th>2</th>\n",
              "      <td>-0.123434</td>\n",
              "      <td>-0.851489</td>\n",
              "      <td>-0.253857</td>\n",
              "      <td>0.450725</td>\n",
              "    </tr>\n",
              "    <tr>\n",
              "      <th>3</th>\n",
              "      <td>1.377106</td>\n",
              "      <td>-0.134943</td>\n",
              "      <td>0.061465</td>\n",
              "      <td>0.829208</td>\n",
              "    </tr>\n",
              "    <tr>\n",
              "      <th>4</th>\n",
              "      <td>0.736539</td>\n",
              "      <td>1.535860</td>\n",
              "      <td>-1.608960</td>\n",
              "      <td>-1.040656</td>\n",
              "    </tr>\n",
              "  </tbody>\n",
              "</table>\n",
              "</div>"
            ],
            "text/plain": [
              "          a         b         c         d\n",
              "0 -0.563272  0.520352  0.300903  1.039578\n",
              "1  0.693664  0.482617 -0.665529  1.805784\n",
              "2 -0.123434 -0.851489 -0.253857  0.450725\n",
              "3  1.377106 -0.134943  0.061465  0.829208\n",
              "4  0.736539  1.535860 -1.608960 -1.040656"
            ]
          },
          "metadata": {
            "tags": []
          },
          "execution_count": 3
        }
      ]
    },
    {
      "cell_type": "code",
      "metadata": {
        "colab": {
          "base_uri": "https://localhost:8080/",
          "height": 203
        },
        "id": "txKgOnVzNMwb",
        "outputId": "35ec1aa1-e85e-488f-edcf-4bf59e48f65d"
      },
      "source": [
        "df.tail()"
      ],
      "execution_count": 4,
      "outputs": [
        {
          "output_type": "execute_result",
          "data": {
            "text/html": [
              "<div>\n",
              "<style scoped>\n",
              "    .dataframe tbody tr th:only-of-type {\n",
              "        vertical-align: middle;\n",
              "    }\n",
              "\n",
              "    .dataframe tbody tr th {\n",
              "        vertical-align: top;\n",
              "    }\n",
              "\n",
              "    .dataframe thead th {\n",
              "        text-align: right;\n",
              "    }\n",
              "</style>\n",
              "<table border=\"1\" class=\"dataframe\">\n",
              "  <thead>\n",
              "    <tr style=\"text-align: right;\">\n",
              "      <th></th>\n",
              "      <th>a</th>\n",
              "      <th>b</th>\n",
              "      <th>c</th>\n",
              "      <th>d</th>\n",
              "    </tr>\n",
              "  </thead>\n",
              "  <tbody>\n",
              "    <tr>\n",
              "      <th>5</th>\n",
              "      <td>0.638241</td>\n",
              "      <td>-0.170830</td>\n",
              "      <td>-0.714289</td>\n",
              "      <td>0.648766</td>\n",
              "    </tr>\n",
              "    <tr>\n",
              "      <th>6</th>\n",
              "      <td>-0.563927</td>\n",
              "      <td>0.484164</td>\n",
              "      <td>-0.152361</td>\n",
              "      <td>1.071458</td>\n",
              "    </tr>\n",
              "    <tr>\n",
              "      <th>7</th>\n",
              "      <td>2.200978</td>\n",
              "      <td>-0.168523</td>\n",
              "      <td>0.686863</td>\n",
              "      <td>0.268294</td>\n",
              "    </tr>\n",
              "    <tr>\n",
              "      <th>8</th>\n",
              "      <td>-0.545620</td>\n",
              "      <td>-0.492658</td>\n",
              "      <td>0.129948</td>\n",
              "      <td>0.274283</td>\n",
              "    </tr>\n",
              "    <tr>\n",
              "      <th>9</th>\n",
              "      <td>-1.458124</td>\n",
              "      <td>-0.054273</td>\n",
              "      <td>-1.440107</td>\n",
              "      <td>-1.194856</td>\n",
              "    </tr>\n",
              "  </tbody>\n",
              "</table>\n",
              "</div>"
            ],
            "text/plain": [
              "          a         b         c         d\n",
              "5  0.638241 -0.170830 -0.714289  0.648766\n",
              "6 -0.563927  0.484164 -0.152361  1.071458\n",
              "7  2.200978 -0.168523  0.686863  0.268294\n",
              "8 -0.545620 -0.492658  0.129948  0.274283\n",
              "9 -1.458124 -0.054273 -1.440107 -1.194856"
            ]
          },
          "metadata": {
            "tags": []
          },
          "execution_count": 4
        }
      ]
    },
    {
      "cell_type": "code",
      "metadata": {
        "colab": {
          "base_uri": "https://localhost:8080/",
          "height": 621
        },
        "id": "huV3xlfYNM0A",
        "outputId": "5493d321-df16-4fa0-c041-49cc8e802ce9"
      },
      "source": [
        "df.plot(kind='bar',title='Bar Chart',figsize=(10,10),grid=True,legend = True)"
      ],
      "execution_count": 5,
      "outputs": [
        {
          "output_type": "execute_result",
          "data": {
            "text/plain": [
              "<matplotlib.axes._subplots.AxesSubplot at 0x7f7291a26f50>"
            ]
          },
          "metadata": {
            "tags": []
          },
          "execution_count": 5
        },
        {
          "output_type": "display_data",
          "data": {
            "image/png": "[encoded data removed]",
            "text/plain": [
              "<Figure size 720x720 with 1 Axes>"
            ]
          },
          "metadata": {
            "tags": [],
            "needs_background": "light"
          }
        }
      ]
    },
    {
      "cell_type": "code",
      "metadata": {
        "id": "6qcS3mvwNM3b"
      },
      "source": [
        ""
      ],
      "execution_count": null,
      "outputs": []
    }
  ]
}