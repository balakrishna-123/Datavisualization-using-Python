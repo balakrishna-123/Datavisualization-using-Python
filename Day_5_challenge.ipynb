{
  "nbformat": 4,
  "nbformat_minor": 0,
  "metadata": {
    "colab": {
      "name": "Day_5_challenge.ipynb",
      "provenance": [],
      "collapsed_sections": []
    },
    "kernelspec": {
      "name": "python3",
      "display_name": "Python 3"
    },
    "language_info": {
      "name": "python"
    }
  },
  "cells": [
    {
      "cell_type": "markdown",
      "metadata": {
        "id": "9dsndkxF6BVF"
      },
      "source": [
        "# **What is Plotly**\n",
        "\n",
        "The plotly is python is an interactive  open source library. Plotly allows users to import, copy and paste or stream data to be analyzed and visualized. For analysis and styling graphs. The Plotly Python graphing library is a graphing library"
      ]
    },
    {
      "cell_type": "markdown",
      "metadata": {
        "id": "cgVL7e2l60R9"
      },
      "source": [
        "# **Where plotly is used**\n",
        "The plotly is python is an interactive  open source library. This can be very helpful tool for data visualization and understanding the data simply and easily. It can plot various types of graphs and charts like scatterplots, line charts, barcharts, boxplots,histograms,piecharts etc.."
      ]
    },
    {
      "cell_type": "code",
      "metadata": {
        "id": "BtetojrTiE5N"
      },
      "source": [
        "import numpy as np  #for numeric operations\n",
        "import pandas as pd  #for data pre processing ,data loading\n",
        "import seaborn as sns  #for statistical analysis\n",
        "\n",
        "\n",
        "import matplotlib as mpl\n",
        "import matplotlib.pyplot as plt\n",
        "%matplotlib inline"
      ],
      "execution_count": 1,
      "outputs": []
    },
    {
      "cell_type": "code",
      "metadata": {
        "colab": {
          "base_uri": "https://localhost:8080/",
          "height": 550
        },
        "id": "AtOkFjl98qiT",
        "outputId": "0e902ee5-0c21-44ce-b0c3-3835d6a05a0d"
      },
      "source": [
        "#6 company car marketshare %\n",
        "labels= 'Maruthi suzuki', 'Hyundai','Kia','Renault','Toyota','Honda'\n",
        "marketshare = [587345,219130,67588,40679,36937,35700]\n",
        "colors =['gold','yellowgreen','lightcoral','lightskyblue','blue','orange']\n",
        "plt.pie(marketshare,labels=labels, colors=colors, autopct = '%1.2f%%')\n"
      ],
      "execution_count": 2,
      "outputs": [
        {
          "output_type": "execute_result",
          "data": {
            "text/plain": [
              "([<matplotlib.patches.Wedge at 0x7f5ec5870d90>,\n",
              "  <matplotlib.patches.Wedge at 0x7f5ec5880590>,\n",
              "  <matplotlib.patches.Wedge at 0x7f5ec5880550>,\n",
              "  <matplotlib.patches.Wedge at 0x7f5ec588e750>,\n",
              "  <matplotlib.patches.Wedge at 0x7f5ec58992d0>,\n",
              "  <matplotlib.patches.Wedge at 0x7f5ec5899c10>],\n",
              " [Text(-0.3229575502787059, 1.0515219544631378, 'Maruthi suzuki'),\n",
              "  Text(-0.30145623605442423, -1.0578866374729854, 'Hyundai'),\n",
              "  Text(0.6521958705656576, -0.8857993827143391, 'Kia'),\n",
              "  Text(0.9130200993564167, -0.6135098191318533, 'Renault'),\n",
              "  Text(1.0352941072938633, -0.3717070236121493, 'Toyota'),\n",
              "  Text(1.0929113403854007, -0.12467879553872455, 'Honda')],\n",
              " [Text(-0.176158663788385, 0.573557429707166, '59.49%'),\n",
              "  Text(-0.1644306742115041, -0.5770290749852647, '22.19%'),\n",
              "  Text(0.3557432021267223, -0.4831632996623667, '6.85%'),\n",
              "  Text(0.49801096328531813, -0.3346417195264654, '4.12%'),\n",
              "  Text(0.5647058767057436, -0.20274928560662686, '3.74%'),\n",
              "  Text(0.5961334583920367, -0.0680066157483952, '3.62%')])"
            ]
          },
          "metadata": {
            "tags": []
          },
          "execution_count": 2
        },
        {
          "output_type": "display_data",
          "data": {
            "image/png": "[encoded data removed]",
            "text/plain": [
              "<Figure size 432x288 with 1 Axes>"
            ]
          },
          "metadata": {
            "tags": []
          }
        }
      ]
    },
    {
      "cell_type": "code",
      "metadata": {
        "id": "NgtfEgOHjAwg"
      },
      "source": [
        "#covid 19 active cases in 10 states\n",
        "cases = {'State':['Andhra Pradesh','Karnataka','Tamil Nadu','Telangana','Arunachal Pradesh','Assam','Bihar','Delhi','Gujarath','Goa'],\n",
        "                  'Active_cases': [30300,37929,33224,10942,3557,23036,1019,798,1356,1995]}\n",
        "df = pd.DataFrame(cases, columns=['State','Active_cases'])"
      ],
      "execution_count": 3,
      "outputs": []
    },
    {
      "cell_type": "code",
      "metadata": {
        "colab": {
          "base_uri": "https://localhost:8080/",
          "height": 357
        },
        "id": "TyxsK94vjUVL",
        "outputId": "6c8d4856-7253-4560-ec3c-6178362920ff"
      },
      "source": [
        "df"
      ],
      "execution_count": 4,
      "outputs": [
        {
          "output_type": "execute_result",
          "data": {
            "text/html": [
              "<div>\n",
              "<style scoped>\n",
              "    .dataframe tbody tr th:only-of-type {\n",
              "        vertical-align: middle;\n",
              "    }\n",
              "\n",
              "    .dataframe tbody tr th {\n",
              "        vertical-align: top;\n",
              "    }\n",
              "\n",
              "    .dataframe thead th {\n",
              "        text-align: right;\n",
              "    }\n",
              "</style>\n",
              "<table border=\"1\" class=\"dataframe\">\n",
              "  <thead>\n",
              "    <tr style=\"text-align: right;\">\n",
              "      <th></th>\n",
              "      <th>State</th>\n",
              "      <th>Active_cases</th>\n",
              "    </tr>\n",
              "  </thead>\n",
              "  <tbody>\n",
              "    <tr>\n",
              "      <th>0</th>\n",
              "      <td>Andhra Pradesh</td>\n",
              "      <td>30300</td>\n",
              "    </tr>\n",
              "    <tr>\n",
              "      <th>1</th>\n",
              "      <td>Karnataka</td>\n",
              "      <td>37929</td>\n",
              "    </tr>\n",
              "    <tr>\n",
              "      <th>2</th>\n",
              "      <td>Tamil Nadu</td>\n",
              "      <td>33224</td>\n",
              "    </tr>\n",
              "    <tr>\n",
              "      <th>3</th>\n",
              "      <td>Telangana</td>\n",
              "      <td>10942</td>\n",
              "    </tr>\n",
              "    <tr>\n",
              "      <th>4</th>\n",
              "      <td>Arunachal Pradesh</td>\n",
              "      <td>3557</td>\n",
              "    </tr>\n",
              "    <tr>\n",
              "      <th>5</th>\n",
              "      <td>Assam</td>\n",
              "      <td>23036</td>\n",
              "    </tr>\n",
              "    <tr>\n",
              "      <th>6</th>\n",
              "      <td>Bihar</td>\n",
              "      <td>1019</td>\n",
              "    </tr>\n",
              "    <tr>\n",
              "      <th>7</th>\n",
              "      <td>Delhi</td>\n",
              "      <td>798</td>\n",
              "    </tr>\n",
              "    <tr>\n",
              "      <th>8</th>\n",
              "      <td>Gujarath</td>\n",
              "      <td>1356</td>\n",
              "    </tr>\n",
              "    <tr>\n",
              "      <th>9</th>\n",
              "      <td>Goa</td>\n",
              "      <td>1995</td>\n",
              "    </tr>\n",
              "  </tbody>\n",
              "</table>\n",
              "</div>"
            ],
            "text/plain": [
              "               State  Active_cases\n",
              "0     Andhra Pradesh         30300\n",
              "1          Karnataka         37929\n",
              "2         Tamil Nadu         33224\n",
              "3          Telangana         10942\n",
              "4  Arunachal Pradesh          3557\n",
              "5              Assam         23036\n",
              "6              Bihar          1019\n",
              "7              Delhi           798\n",
              "8           Gujarath          1356\n",
              "9                Goa          1995"
            ]
          },
          "metadata": {
            "tags": []
          },
          "execution_count": 4
        }
      ]
    },
    {
      "cell_type": "code",
      "metadata": {
        "colab": {
          "base_uri": "https://localhost:8080/",
          "height": 279
        },
        "id": "bIxRM1UduG3d",
        "outputId": "739cca9a-8c78-449f-ba9c-eba0b4672398"
      },
      "source": [
        "df.plot.bar()\n"
      ],
      "execution_count": 5,
      "outputs": [
        {
          "output_type": "execute_result",
          "data": {
            "text/plain": [
              "<matplotlib.axes._subplots.AxesSubplot at 0x7f5ec58a4710>"
            ]
          },
          "metadata": {
            "tags": []
          },
          "execution_count": 5
        },
        {
          "output_type": "display_data",
          "data": {
            "image/png": "[encoded data removed]",
            "text/plain": [
              "<Figure size 432x288 with 1 Axes>"
            ]
          },
          "metadata": {
            "tags": [],
            "needs_background": "light"
          }
        }
      ]
    },
    {
      "cell_type": "code",
      "metadata": {
        "id": "at_HlojEubV4",
        "colab": {
          "base_uri": "https://localhost:8080/",
          "height": 293
        },
        "outputId": "2cbbc0af-9312-41eb-d2f8-19d23319d077"
      },
      "source": [
        "#recovery rate in last 12 months\n",
        "month=['aug','sep','oct','nov','dec','jan','feb','march','apr','may','june','july']\n",
        "recovery_rate=[258306,4755522,7371898,8717709,988732,10393162,10748778,11262508,15673250,25939715,19302223,29650662]\n",
        "plt.plot(month,recovery_rate,'go--',linewidth=2,markersize=8)"
      ],
      "execution_count": 6,
      "outputs": [
        {
          "output_type": "execute_result",
          "data": {
            "text/plain": [
              "[<matplotlib.lines.Line2D at 0x7f5ec527b790>]"
            ]
          },
          "metadata": {
            "tags": []
          },
          "execution_count": 6
        },
        {
          "output_type": "display_data",
          "data": {
            "image/png": "[encoded data removed]",
            "text/plain": [
              "<Figure size 432x288 with 1 Axes>"
            ]
          },
          "metadata": {
            "tags": [],
            "needs_background": "light"
          }
        }
      ]
    }
  ]
}